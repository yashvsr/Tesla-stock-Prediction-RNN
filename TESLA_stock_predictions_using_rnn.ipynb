{
  "cells": [
    {
      "cell_type": "markdown",
      "source": [
        "# Stock valuation with comaprable companies\n"
      ],
      "metadata": {
        "id": "DkEOsB8uAdW5"
      }
    },
    {
      "cell_type": "code",
      "source": [
        "import numpy as np\n",
        "import matplotlib.pyplot as plt\n",
        "import pandas as pd"
      ],
      "metadata": {
        "id": "CUjxv3TnAtbT"
      },
      "execution_count": null,
      "outputs": []
    },
    {
      "cell_type": "code",
      "source": [
        "analysis = pd.read_csv('/content/TESLA_price_compared.csv')"
      ],
      "metadata": {
        "id": "o7YTVy2pAzL0"
      },
      "execution_count": null,
      "outputs": []
    },
    {
      "cell_type": "code",
      "source": [
        "analysis"
      ],
      "metadata": {
        "colab": {
          "base_uri": "https://localhost:8080/",
          "height": 584
        },
        "id": "OWlIXZJ6A981",
        "outputId": "5a533f30-abe5-47f9-d14e-c6ad4ba470d1"
      },
      "execution_count": null,
      "outputs": [
        {
          "output_type": "execute_result",
          "data": {
            "text/plain": [
              "       Company    Price        Market Cap                EV  \\\n",
              "0           GM   $39.70   $57,884,506,712  $151,561,506,712   \n",
              "1         Ford   $15.88   $63,841,364,020   $63,841,364,020   \n",
              "2       Toyota  $156.46   $21,063,441,037  $166,828,347,063   \n",
              "3   Volkswagen  $146.30   $87,658,222,807  $152,670,592,437   \n",
              "4      Daimler   $14.55       $86,166,066   $68,089,166,066   \n",
              "5          BMW   $76.09   $50,116,573,227   $65,545,624,800   \n",
              "6        Honda   $27.05   $49,558,844,602   $83,583,498,634   \n",
              "7        Tesla  $890.00  $929,595,210,000  $936,260,210,000   \n",
              "8          NaN      NaN               NaN               NaN   \n",
              "9      Average      NaN               NaN               NaN   \n",
              "10  Difference      NaN               NaN               NaN   \n",
              "11         NaN      NaN               NaN               NaN   \n",
              "12         NaN      NaN               NaN               NaN   \n",
              "13         NaN      NaN               NaN               NaN   \n",
              "14         NaN      NaN               NaN               NaN   \n",
              "\n",
              "                  Sales               EBITA                EBIT  \\\n",
              "0      $132,101,000,000     $22,369,000,000     $10,604,000,000   \n",
              "1       $43,462,000,000       -$243,671,000        -$55,215,000   \n",
              "2      $233,196,302,815     $40,086,350,654     $26,318,282,454   \n",
              "3   $251,493,094,200.00  $53,768,209,000.00  $25,811,149,200.00   \n",
              "4   $138,185,000,000.00  $23,542,000,000.00  $17,004,000,000.00   \n",
              "5   $122,241,626,700.00  $30,164,196,100.00  $22,808,078,800.00   \n",
              "6   $108,060,730,823.95  $11,966,892,450.81   $7,430,742,661.81   \n",
              "7    $67,166,000,000.00  $14,330,000,000.00  $10,919,000,000.00   \n",
              "8                   NaN                 NaN                 NaN   \n",
              "9                   NaN                 NaN                 NaN   \n",
              "10                  NaN                 NaN                 NaN   \n",
              "11                  NaN                 NaN                 NaN   \n",
              "12                  NaN                 NaN                 NaN   \n",
              "13                  NaN                 NaN                 NaN   \n",
              "14                  NaN                 NaN                 NaN   \n",
              "\n",
              "              Earnings EV/Sales  EV/EBITA EV/EBIT      P/E         Unnamed: 12  \n",
              "0       $7,723,000,000     1.15      6.78   14.29     7.50                 NaN  \n",
              "1        -$679,314,000     1.47       NaN     NaN      NaN                 NaN  \n",
              "2      $19,636,336,794     0.72      4.16    6.34     1.07                 NaN  \n",
              "3   $18,221,169,800.00     0.61      2.84    5.91     4.81                 NaN  \n",
              "4   $21,715,000,000.00     0.49      2.89    4.00     0.00                 NaN  \n",
              "5   $17,848,797,100.00     0.54      2.17    2.87     2.81                 NaN  \n",
              "6    $4,627,945,770.35     0.77      6.98   11.25    10.71                 NaN  \n",
              "7    $9,508,000,000.00    13.94     65.34   85.75    97.77                 NaN  \n",
              "8                  NaN      NaN       NaN     NaN      NaN                 NaN  \n",
              "9                  NaN     0.82      4.30    7.45     4.48                 NaN  \n",
              "10                 NaN    17.00     15.18   11.52    21.81                 NaN  \n",
              "11                 NaN   $52.36    $58.63  $77.28   $40.81                 NaN  \n",
              "12                 NaN      NaN       NaN     NaN      NaN                 NaN  \n",
              "13                 NaN      NaN       NaN     NaN   $57.27  $59,820,605,729.48  \n",
              "14                 NaN      NaN  DOWNSIDE     NaN  -93.56%         STRONG SELL  "
            ],
            "text/html": [
              "\n",
              "  <div id=\"df-6f9997d8-a654-49cf-be70-8e8f246cb08b\">\n",
              "    <div class=\"colab-df-container\">\n",
              "      <div>\n",
              "<style scoped>\n",
              "    .dataframe tbody tr th:only-of-type {\n",
              "        vertical-align: middle;\n",
              "    }\n",
              "\n",
              "    .dataframe tbody tr th {\n",
              "        vertical-align: top;\n",
              "    }\n",
              "\n",
              "    .dataframe thead th {\n",
              "        text-align: right;\n",
              "    }\n",
              "</style>\n",
              "<table border=\"1\" class=\"dataframe\">\n",
              "  <thead>\n",
              "    <tr style=\"text-align: right;\">\n",
              "      <th></th>\n",
              "      <th>Company</th>\n",
              "      <th>Price</th>\n",
              "      <th>Market Cap</th>\n",
              "      <th>EV</th>\n",
              "      <th>Sales</th>\n",
              "      <th>EBITA</th>\n",
              "      <th>EBIT</th>\n",
              "      <th>Earnings</th>\n",
              "      <th>EV/Sales</th>\n",
              "      <th>EV/EBITA</th>\n",
              "      <th>EV/EBIT</th>\n",
              "      <th>P/E</th>\n",
              "      <th>Unnamed: 12</th>\n",
              "    </tr>\n",
              "  </thead>\n",
              "  <tbody>\n",
              "    <tr>\n",
              "      <th>0</th>\n",
              "      <td>GM</td>\n",
              "      <td>$39.70</td>\n",
              "      <td>$57,884,506,712</td>\n",
              "      <td>$151,561,506,712</td>\n",
              "      <td>$132,101,000,000</td>\n",
              "      <td>$22,369,000,000</td>\n",
              "      <td>$10,604,000,000</td>\n",
              "      <td>$7,723,000,000</td>\n",
              "      <td>1.15</td>\n",
              "      <td>6.78</td>\n",
              "      <td>14.29</td>\n",
              "      <td>7.50</td>\n",
              "      <td>NaN</td>\n",
              "    </tr>\n",
              "    <tr>\n",
              "      <th>1</th>\n",
              "      <td>Ford</td>\n",
              "      <td>$15.88</td>\n",
              "      <td>$63,841,364,020</td>\n",
              "      <td>$63,841,364,020</td>\n",
              "      <td>$43,462,000,000</td>\n",
              "      <td>-$243,671,000</td>\n",
              "      <td>-$55,215,000</td>\n",
              "      <td>-$679,314,000</td>\n",
              "      <td>1.47</td>\n",
              "      <td>NaN</td>\n",
              "      <td>NaN</td>\n",
              "      <td>NaN</td>\n",
              "      <td>NaN</td>\n",
              "    </tr>\n",
              "    <tr>\n",
              "      <th>2</th>\n",
              "      <td>Toyota</td>\n",
              "      <td>$156.46</td>\n",
              "      <td>$21,063,441,037</td>\n",
              "      <td>$166,828,347,063</td>\n",
              "      <td>$233,196,302,815</td>\n",
              "      <td>$40,086,350,654</td>\n",
              "      <td>$26,318,282,454</td>\n",
              "      <td>$19,636,336,794</td>\n",
              "      <td>0.72</td>\n",
              "      <td>4.16</td>\n",
              "      <td>6.34</td>\n",
              "      <td>1.07</td>\n",
              "      <td>NaN</td>\n",
              "    </tr>\n",
              "    <tr>\n",
              "      <th>3</th>\n",
              "      <td>Volkswagen</td>\n",
              "      <td>$146.30</td>\n",
              "      <td>$87,658,222,807</td>\n",
              "      <td>$152,670,592,437</td>\n",
              "      <td>$251,493,094,200.00</td>\n",
              "      <td>$53,768,209,000.00</td>\n",
              "      <td>$25,811,149,200.00</td>\n",
              "      <td>$18,221,169,800.00</td>\n",
              "      <td>0.61</td>\n",
              "      <td>2.84</td>\n",
              "      <td>5.91</td>\n",
              "      <td>4.81</td>\n",
              "      <td>NaN</td>\n",
              "    </tr>\n",
              "    <tr>\n",
              "      <th>4</th>\n",
              "      <td>Daimler</td>\n",
              "      <td>$14.55</td>\n",
              "      <td>$86,166,066</td>\n",
              "      <td>$68,089,166,066</td>\n",
              "      <td>$138,185,000,000.00</td>\n",
              "      <td>$23,542,000,000.00</td>\n",
              "      <td>$17,004,000,000.00</td>\n",
              "      <td>$21,715,000,000.00</td>\n",
              "      <td>0.49</td>\n",
              "      <td>2.89</td>\n",
              "      <td>4.00</td>\n",
              "      <td>0.00</td>\n",
              "      <td>NaN</td>\n",
              "    </tr>\n",
              "    <tr>\n",
              "      <th>5</th>\n",
              "      <td>BMW</td>\n",
              "      <td>$76.09</td>\n",
              "      <td>$50,116,573,227</td>\n",
              "      <td>$65,545,624,800</td>\n",
              "      <td>$122,241,626,700.00</td>\n",
              "      <td>$30,164,196,100.00</td>\n",
              "      <td>$22,808,078,800.00</td>\n",
              "      <td>$17,848,797,100.00</td>\n",
              "      <td>0.54</td>\n",
              "      <td>2.17</td>\n",
              "      <td>2.87</td>\n",
              "      <td>2.81</td>\n",
              "      <td>NaN</td>\n",
              "    </tr>\n",
              "    <tr>\n",
              "      <th>6</th>\n",
              "      <td>Honda</td>\n",
              "      <td>$27.05</td>\n",
              "      <td>$49,558,844,602</td>\n",
              "      <td>$83,583,498,634</td>\n",
              "      <td>$108,060,730,823.95</td>\n",
              "      <td>$11,966,892,450.81</td>\n",
              "      <td>$7,430,742,661.81</td>\n",
              "      <td>$4,627,945,770.35</td>\n",
              "      <td>0.77</td>\n",
              "      <td>6.98</td>\n",
              "      <td>11.25</td>\n",
              "      <td>10.71</td>\n",
              "      <td>NaN</td>\n",
              "    </tr>\n",
              "    <tr>\n",
              "      <th>7</th>\n",
              "      <td>Tesla</td>\n",
              "      <td>$890.00</td>\n",
              "      <td>$929,595,210,000</td>\n",
              "      <td>$936,260,210,000</td>\n",
              "      <td>$67,166,000,000.00</td>\n",
              "      <td>$14,330,000,000.00</td>\n",
              "      <td>$10,919,000,000.00</td>\n",
              "      <td>$9,508,000,000.00</td>\n",
              "      <td>13.94</td>\n",
              "      <td>65.34</td>\n",
              "      <td>85.75</td>\n",
              "      <td>97.77</td>\n",
              "      <td>NaN</td>\n",
              "    </tr>\n",
              "    <tr>\n",
              "      <th>8</th>\n",
              "      <td>NaN</td>\n",
              "      <td>NaN</td>\n",
              "      <td>NaN</td>\n",
              "      <td>NaN</td>\n",
              "      <td>NaN</td>\n",
              "      <td>NaN</td>\n",
              "      <td>NaN</td>\n",
              "      <td>NaN</td>\n",
              "      <td>NaN</td>\n",
              "      <td>NaN</td>\n",
              "      <td>NaN</td>\n",
              "      <td>NaN</td>\n",
              "      <td>NaN</td>\n",
              "    </tr>\n",
              "    <tr>\n",
              "      <th>9</th>\n",
              "      <td>Average</td>\n",
              "      <td>NaN</td>\n",
              "      <td>NaN</td>\n",
              "      <td>NaN</td>\n",
              "      <td>NaN</td>\n",
              "      <td>NaN</td>\n",
              "      <td>NaN</td>\n",
              "      <td>NaN</td>\n",
              "      <td>0.82</td>\n",
              "      <td>4.30</td>\n",
              "      <td>7.45</td>\n",
              "      <td>4.48</td>\n",
              "      <td>NaN</td>\n",
              "    </tr>\n",
              "    <tr>\n",
              "      <th>10</th>\n",
              "      <td>Difference</td>\n",
              "      <td>NaN</td>\n",
              "      <td>NaN</td>\n",
              "      <td>NaN</td>\n",
              "      <td>NaN</td>\n",
              "      <td>NaN</td>\n",
              "      <td>NaN</td>\n",
              "      <td>NaN</td>\n",
              "      <td>17.00</td>\n",
              "      <td>15.18</td>\n",
              "      <td>11.52</td>\n",
              "      <td>21.81</td>\n",
              "      <td>NaN</td>\n",
              "    </tr>\n",
              "    <tr>\n",
              "      <th>11</th>\n",
              "      <td>NaN</td>\n",
              "      <td>NaN</td>\n",
              "      <td>NaN</td>\n",
              "      <td>NaN</td>\n",
              "      <td>NaN</td>\n",
              "      <td>NaN</td>\n",
              "      <td>NaN</td>\n",
              "      <td>NaN</td>\n",
              "      <td>$52.36</td>\n",
              "      <td>$58.63</td>\n",
              "      <td>$77.28</td>\n",
              "      <td>$40.81</td>\n",
              "      <td>NaN</td>\n",
              "    </tr>\n",
              "    <tr>\n",
              "      <th>12</th>\n",
              "      <td>NaN</td>\n",
              "      <td>NaN</td>\n",
              "      <td>NaN</td>\n",
              "      <td>NaN</td>\n",
              "      <td>NaN</td>\n",
              "      <td>NaN</td>\n",
              "      <td>NaN</td>\n",
              "      <td>NaN</td>\n",
              "      <td>NaN</td>\n",
              "      <td>NaN</td>\n",
              "      <td>NaN</td>\n",
              "      <td>NaN</td>\n",
              "      <td>NaN</td>\n",
              "    </tr>\n",
              "    <tr>\n",
              "      <th>13</th>\n",
              "      <td>NaN</td>\n",
              "      <td>NaN</td>\n",
              "      <td>NaN</td>\n",
              "      <td>NaN</td>\n",
              "      <td>NaN</td>\n",
              "      <td>NaN</td>\n",
              "      <td>NaN</td>\n",
              "      <td>NaN</td>\n",
              "      <td>NaN</td>\n",
              "      <td>NaN</td>\n",
              "      <td>NaN</td>\n",
              "      <td>$57.27</td>\n",
              "      <td>$59,820,605,729.48</td>\n",
              "    </tr>\n",
              "    <tr>\n",
              "      <th>14</th>\n",
              "      <td>NaN</td>\n",
              "      <td>NaN</td>\n",
              "      <td>NaN</td>\n",
              "      <td>NaN</td>\n",
              "      <td>NaN</td>\n",
              "      <td>NaN</td>\n",
              "      <td>NaN</td>\n",
              "      <td>NaN</td>\n",
              "      <td>NaN</td>\n",
              "      <td>DOWNSIDE</td>\n",
              "      <td>NaN</td>\n",
              "      <td>-93.56%</td>\n",
              "      <td>STRONG SELL</td>\n",
              "    </tr>\n",
              "  </tbody>\n",
              "</table>\n",
              "</div>\n",
              "      <button class=\"colab-df-convert\" onclick=\"convertToInteractive('df-6f9997d8-a654-49cf-be70-8e8f246cb08b')\"\n",
              "              title=\"Convert this dataframe to an interactive table.\"\n",
              "              style=\"display:none;\">\n",
              "        \n",
              "  <svg xmlns=\"http://www.w3.org/2000/svg\" height=\"24px\"viewBox=\"0 0 24 24\"\n",
              "       width=\"24px\">\n",
              "    <path d=\"M0 0h24v24H0V0z\" fill=\"none\"/>\n",
              "    <path d=\"M18.56 5.44l.94 2.06.94-2.06 2.06-.94-2.06-.94-.94-2.06-.94 2.06-2.06.94zm-11 1L8.5 8.5l.94-2.06 2.06-.94-2.06-.94L8.5 2.5l-.94 2.06-2.06.94zm10 10l.94 2.06.94-2.06 2.06-.94-2.06-.94-.94-2.06-.94 2.06-2.06.94z\"/><path d=\"M17.41 7.96l-1.37-1.37c-.4-.4-.92-.59-1.43-.59-.52 0-1.04.2-1.43.59L10.3 9.45l-7.72 7.72c-.78.78-.78 2.05 0 2.83L4 21.41c.39.39.9.59 1.41.59.51 0 1.02-.2 1.41-.59l7.78-7.78 2.81-2.81c.8-.78.8-2.07 0-2.86zM5.41 20L4 18.59l7.72-7.72 1.47 1.35L5.41 20z\"/>\n",
              "  </svg>\n",
              "      </button>\n",
              "      \n",
              "  <style>\n",
              "    .colab-df-container {\n",
              "      display:flex;\n",
              "      flex-wrap:wrap;\n",
              "      gap: 12px;\n",
              "    }\n",
              "\n",
              "    .colab-df-convert {\n",
              "      background-color: #E8F0FE;\n",
              "      border: none;\n",
              "      border-radius: 50%;\n",
              "      cursor: pointer;\n",
              "      display: none;\n",
              "      fill: #1967D2;\n",
              "      height: 32px;\n",
              "      padding: 0 0 0 0;\n",
              "      width: 32px;\n",
              "    }\n",
              "\n",
              "    .colab-df-convert:hover {\n",
              "      background-color: #E2EBFA;\n",
              "      box-shadow: 0px 1px 2px rgba(60, 64, 67, 0.3), 0px 1px 3px 1px rgba(60, 64, 67, 0.15);\n",
              "      fill: #174EA6;\n",
              "    }\n",
              "\n",
              "    [theme=dark] .colab-df-convert {\n",
              "      background-color: #3B4455;\n",
              "      fill: #D2E3FC;\n",
              "    }\n",
              "\n",
              "    [theme=dark] .colab-df-convert:hover {\n",
              "      background-color: #434B5C;\n",
              "      box-shadow: 0px 1px 3px 1px rgba(0, 0, 0, 0.15);\n",
              "      filter: drop-shadow(0px 1px 2px rgba(0, 0, 0, 0.3));\n",
              "      fill: #FFFFFF;\n",
              "    }\n",
              "  </style>\n",
              "\n",
              "      <script>\n",
              "        const buttonEl =\n",
              "          document.querySelector('#df-6f9997d8-a654-49cf-be70-8e8f246cb08b button.colab-df-convert');\n",
              "        buttonEl.style.display =\n",
              "          google.colab.kernel.accessAllowed ? 'block' : 'none';\n",
              "\n",
              "        async function convertToInteractive(key) {\n",
              "          const element = document.querySelector('#df-6f9997d8-a654-49cf-be70-8e8f246cb08b');\n",
              "          const dataTable =\n",
              "            await google.colab.kernel.invokeFunction('convertToInteractive',\n",
              "                                                     [key], {});\n",
              "          if (!dataTable) return;\n",
              "\n",
              "          const docLinkHtml = 'Like what you see? Visit the ' +\n",
              "            '<a target=\"_blank\" href=https://colab.research.google.com/notebooks/data_table.ipynb>data table notebook</a>'\n",
              "            + ' to learn more about interactive tables.';\n",
              "          element.innerHTML = '';\n",
              "          dataTable['output_type'] = 'display_data';\n",
              "          await google.colab.output.renderOutput(dataTable, element);\n",
              "          const docLink = document.createElement('div');\n",
              "          docLink.innerHTML = docLinkHtml;\n",
              "          element.appendChild(docLink);\n",
              "        }\n",
              "      </script>\n",
              "    </div>\n",
              "  </div>\n",
              "  "
            ]
          },
          "metadata": {},
          "execution_count": 4
        }
      ]
    },
    {
      "cell_type": "markdown",
      "source": [
        "From the comparison based on the performance of the other compaines, it is concluded that Tesla stock prices are highly overvalued and hence volatile."
      ],
      "metadata": {
        "id": "uxgRd6NmBb22"
      }
    },
    {
      "cell_type": "markdown",
      "metadata": {
        "id": "xpAuMVCwfWs8"
      },
      "source": [
        "# Recurrent Neural Network"
      ]
    },
    {
      "cell_type": "markdown",
      "metadata": {
        "id": "nxJfRe4bfYVA"
      },
      "source": [
        "## Part 1 - Data Preprocessing"
      ]
    },
    {
      "cell_type": "markdown",
      "metadata": {
        "id": "ir9zwETrfbrp"
      },
      "source": [
        "### Importing the libraries"
      ]
    },
    {
      "cell_type": "code",
      "execution_count": null,
      "metadata": {
        "id": "ZT1f24vHffuf"
      },
      "outputs": [],
      "source": [
        "import numpy as np\n",
        "import matplotlib.pyplot as plt\n",
        "import pandas as pd"
      ]
    },
    {
      "cell_type": "markdown",
      "metadata": {
        "id": "nQ47JAxrgmaL"
      },
      "source": [
        "### Importing the training set"
      ]
    },
    {
      "cell_type": "code",
      "execution_count": null,
      "metadata": {
        "id": "1xiv3pJOgqY3"
      },
      "outputs": [],
      "source": [
        "dataset_train = pd.read_csv('/content/TESLA_stock_price_train.csv')\n",
        "training_set = dataset_train.iloc[:, 1:2].values"
      ]
    },
    {
      "cell_type": "markdown",
      "metadata": {
        "id": "HT8_2UJegtG5"
      },
      "source": [
        "### Feature Scaling"
      ]
    },
    {
      "cell_type": "code",
      "execution_count": null,
      "metadata": {
        "id": "OTrF2kR7gx9x"
      },
      "outputs": [],
      "source": [
        "from sklearn.preprocessing import MinMaxScaler\n",
        "sc = MinMaxScaler(feature_range = (0,1))\n",
        "training_set_scaled = sc.fit_transform(training_set)"
      ]
    },
    {
      "cell_type": "markdown",
      "metadata": {
        "id": "JyYgYocqhNUg"
      },
      "source": [
        "### Creating a data structure with 60 timesteps and 1 output"
      ]
    },
    {
      "cell_type": "code",
      "execution_count": null,
      "metadata": {
        "id": "iofU21B0i6ST"
      },
      "outputs": [],
      "source": [
        "X_train = []\n",
        "y_train = []\n",
        "for i in range(60,693):\n",
        "  X_train.append(training_set_scaled[i-60:i,0])\n",
        "  y_train.append(training_set_scaled[i,0])\n",
        "X_train, y_train = np.array(X_train), np.array(y_train)"
      ]
    },
    {
      "cell_type": "markdown",
      "metadata": {
        "id": "D8yaN7Zvi95l"
      },
      "source": [
        "### Reshaping"
      ]
    },
    {
      "cell_type": "code",
      "execution_count": null,
      "metadata": {
        "id": "FOXqJHmNjBkz"
      },
      "outputs": [],
      "source": [
        " X_train = np.reshape(X_train, (X_train.shape[0], X_train.shape[1], 1))"
      ]
    },
    {
      "cell_type": "markdown",
      "metadata": {
        "id": "ZRRSOJeVjEWV"
      },
      "source": [
        "## Part 2 - Building and Training the RNN"
      ]
    },
    {
      "cell_type": "markdown",
      "metadata": {
        "id": "k4XV88JMjHXG"
      },
      "source": [
        "### Importing the Keras libraries and packages"
      ]
    },
    {
      "cell_type": "code",
      "execution_count": null,
      "metadata": {
        "id": "9JRnqsxEjKsD"
      },
      "outputs": [],
      "source": [
        "from keras.models import Sequential\n",
        "from keras.layers import Dense\n",
        "from keras.layers import LSTM\n",
        "from keras.layers import Dropout"
      ]
    },
    {
      "cell_type": "markdown",
      "metadata": {
        "id": "FEIE-1s9jNzC"
      },
      "source": [
        "### Initialising the RNN"
      ]
    },
    {
      "cell_type": "code",
      "execution_count": null,
      "metadata": {
        "id": "1338dJ0UjRKH"
      },
      "outputs": [],
      "source": [
        "regressor = Sequential()"
      ]
    },
    {
      "cell_type": "markdown",
      "metadata": {
        "id": "62eg1OPGjT8z"
      },
      "source": [
        "### Adding the first LSTM layer and some Dropout regularisation"
      ]
    },
    {
      "cell_type": "code",
      "execution_count": null,
      "metadata": {
        "id": "2hIinyXUjbVU"
      },
      "outputs": [],
      "source": [
        " regressor.add(LSTM(units = 50, return_sequences= True, input_shape = (X_train.shape[1], 1)))\n",
        " regressor.add(Dropout(0.2))"
      ]
    },
    {
      "cell_type": "markdown",
      "metadata": {
        "id": "3XBIYLyOjlMx"
      },
      "source": [
        "### Adding a second LSTM layer and some Dropout regularisation"
      ]
    },
    {
      "cell_type": "code",
      "execution_count": null,
      "metadata": {
        "id": "UG7nrVaSjuZ2"
      },
      "outputs": [],
      "source": [
        " regressor.add(LSTM(units = 50, return_sequences= True))\n",
        " regressor.add(Dropout(0.2))"
      ]
    },
    {
      "cell_type": "markdown",
      "metadata": {
        "id": "Ey3fHVnGj1cu"
      },
      "source": [
        "### Adding a third LSTM layer and some Dropout regularisation"
      ]
    },
    {
      "cell_type": "code",
      "execution_count": null,
      "metadata": {
        "id": "O5aG7W6ENvpp"
      },
      "outputs": [],
      "source": [
        " regressor.add(LSTM(units = 50, return_sequences= True))\n",
        " regressor.add(Dropout(0.2))"
      ]
    },
    {
      "cell_type": "markdown",
      "metadata": {
        "id": "SYTrtfTmj933"
      },
      "source": [
        "### Adding a fourth LSTM layer and some Dropout regularisation"
      ]
    },
    {
      "cell_type": "code",
      "execution_count": null,
      "metadata": {
        "id": "cwBUNSwhOMFE"
      },
      "outputs": [],
      "source": [
        " regressor.add(LSTM(units = 50, return_sequences= False))\n",
        " regressor.add(Dropout(0.2))"
      ]
    },
    {
      "cell_type": "markdown",
      "metadata": {
        "id": "9ABI6rOIkHhk"
      },
      "source": [
        "### Adding the output layer"
      ]
    },
    {
      "cell_type": "code",
      "execution_count": null,
      "metadata": {
        "id": "n_Ve_oUROxdS"
      },
      "outputs": [],
      "source": [
        "regressor.add(Dense(units = 1))"
      ]
    },
    {
      "cell_type": "markdown",
      "metadata": {
        "id": "zLx4K7uUkPSh"
      },
      "source": [
        "### Compiling the RNN"
      ]
    },
    {
      "cell_type": "code",
      "execution_count": null,
      "metadata": {
        "id": "rssSmlI4SXuA"
      },
      "outputs": [],
      "source": [
        "regressor.compile(optimizer= 'adam', loss='mean_squared_error')"
      ]
    },
    {
      "cell_type": "markdown",
      "metadata": {
        "id": "-mPhwKGkkebi"
      },
      "source": [
        "### Fitting the RNN to the Training set"
      ]
    },
    {
      "cell_type": "code",
      "execution_count": null,
      "metadata": {
        "colab": {
          "base_uri": "https://localhost:8080/"
        },
        "id": "R1BFlN3rT827",
        "outputId": "682b4bf0-f8cb-46cc-c9b6-1d662297f040"
      },
      "outputs": [
        {
          "output_type": "stream",
          "name": "stdout",
          "text": [
            "Epoch 1/150\n",
            "20/20 [==============================] - 0s 17ms/step - loss: 0.0019\n",
            "Epoch 2/150\n",
            "20/20 [==============================] - 0s 13ms/step - loss: 0.0024\n",
            "Epoch 3/150\n",
            "20/20 [==============================] - 0s 13ms/step - loss: 0.0020\n",
            "Epoch 4/150\n",
            "20/20 [==============================] - 0s 14ms/step - loss: 0.0022\n",
            "Epoch 5/150\n",
            "20/20 [==============================] - 0s 13ms/step - loss: 0.0020\n",
            "Epoch 6/150\n",
            "20/20 [==============================] - 0s 13ms/step - loss: 0.0025\n",
            "Epoch 7/150\n",
            "20/20 [==============================] - 0s 13ms/step - loss: 0.0020\n",
            "Epoch 8/150\n",
            "20/20 [==============================] - 0s 14ms/step - loss: 0.0025\n",
            "Epoch 9/150\n",
            "20/20 [==============================] - 0s 14ms/step - loss: 0.0022\n",
            "Epoch 10/150\n",
            "20/20 [==============================] - 0s 14ms/step - loss: 0.0027\n",
            "Epoch 11/150\n",
            "20/20 [==============================] - 0s 14ms/step - loss: 0.0021\n",
            "Epoch 12/150\n",
            "20/20 [==============================] - 0s 14ms/step - loss: 0.0020\n",
            "Epoch 13/150\n",
            "20/20 [==============================] - 0s 13ms/step - loss: 0.0019\n",
            "Epoch 14/150\n",
            "20/20 [==============================] - 0s 14ms/step - loss: 0.0019\n",
            "Epoch 15/150\n",
            "20/20 [==============================] - 0s 14ms/step - loss: 0.0020\n",
            "Epoch 16/150\n",
            "20/20 [==============================] - 0s 14ms/step - loss: 0.0021\n",
            "Epoch 17/150\n",
            "20/20 [==============================] - 0s 13ms/step - loss: 0.0019\n",
            "Epoch 18/150\n",
            "20/20 [==============================] - 0s 14ms/step - loss: 0.0019\n",
            "Epoch 19/150\n",
            "20/20 [==============================] - 0s 13ms/step - loss: 0.0021\n",
            "Epoch 20/150\n",
            "20/20 [==============================] - 0s 13ms/step - loss: 0.0024\n",
            "Epoch 21/150\n",
            "20/20 [==============================] - 0s 13ms/step - loss: 0.0021\n",
            "Epoch 22/150\n",
            "20/20 [==============================] - 0s 14ms/step - loss: 0.0019\n",
            "Epoch 23/150\n",
            "20/20 [==============================] - 0s 14ms/step - loss: 0.0020\n",
            "Epoch 24/150\n",
            "20/20 [==============================] - 0s 13ms/step - loss: 0.0021\n",
            "Epoch 25/150\n",
            "20/20 [==============================] - 0s 14ms/step - loss: 0.0021\n",
            "Epoch 26/150\n",
            "20/20 [==============================] - 0s 14ms/step - loss: 0.0017\n",
            "Epoch 27/150\n",
            "20/20 [==============================] - 0s 13ms/step - loss: 0.0020\n",
            "Epoch 28/150\n",
            "20/20 [==============================] - 0s 13ms/step - loss: 0.0020\n",
            "Epoch 29/150\n",
            "20/20 [==============================] - 0s 14ms/step - loss: 0.0020\n",
            "Epoch 30/150\n",
            "20/20 [==============================] - 0s 14ms/step - loss: 0.0019\n",
            "Epoch 31/150\n",
            "20/20 [==============================] - 0s 14ms/step - loss: 0.0022\n",
            "Epoch 32/150\n",
            "20/20 [==============================] - 0s 13ms/step - loss: 0.0020\n",
            "Epoch 33/150\n",
            "20/20 [==============================] - 0s 14ms/step - loss: 0.0017\n",
            "Epoch 34/150\n",
            "20/20 [==============================] - 0s 14ms/step - loss: 0.0018\n",
            "Epoch 35/150\n",
            "20/20 [==============================] - 0s 14ms/step - loss: 0.0021\n",
            "Epoch 36/150\n",
            "20/20 [==============================] - 0s 14ms/step - loss: 0.0018\n",
            "Epoch 37/150\n",
            "20/20 [==============================] - 0s 14ms/step - loss: 0.0020\n",
            "Epoch 38/150\n",
            "20/20 [==============================] - 0s 14ms/step - loss: 0.0019\n",
            "Epoch 39/150\n",
            "20/20 [==============================] - 0s 13ms/step - loss: 0.0018\n",
            "Epoch 40/150\n",
            "20/20 [==============================] - 0s 14ms/step - loss: 0.0019\n",
            "Epoch 41/150\n",
            "20/20 [==============================] - 0s 14ms/step - loss: 0.0019\n",
            "Epoch 42/150\n",
            "20/20 [==============================] - 0s 13ms/step - loss: 0.0024\n",
            "Epoch 43/150\n",
            "20/20 [==============================] - 0s 13ms/step - loss: 0.0021\n",
            "Epoch 44/150\n",
            "20/20 [==============================] - 0s 14ms/step - loss: 0.0019\n",
            "Epoch 45/150\n",
            "20/20 [==============================] - 0s 13ms/step - loss: 0.0017\n",
            "Epoch 46/150\n",
            "20/20 [==============================] - 0s 13ms/step - loss: 0.0018\n",
            "Epoch 47/150\n",
            "20/20 [==============================] - 0s 13ms/step - loss: 0.0017\n",
            "Epoch 48/150\n",
            "20/20 [==============================] - 0s 14ms/step - loss: 0.0020\n",
            "Epoch 49/150\n",
            "20/20 [==============================] - 0s 14ms/step - loss: 0.0020\n",
            "Epoch 50/150\n",
            "20/20 [==============================] - 0s 14ms/step - loss: 0.0019\n",
            "Epoch 51/150\n",
            "20/20 [==============================] - 0s 14ms/step - loss: 0.0021\n",
            "Epoch 52/150\n",
            "20/20 [==============================] - 0s 13ms/step - loss: 0.0017\n",
            "Epoch 53/150\n",
            "20/20 [==============================] - 0s 14ms/step - loss: 0.0019\n",
            "Epoch 54/150\n",
            "20/20 [==============================] - 0s 14ms/step - loss: 0.0017\n",
            "Epoch 55/150\n",
            "20/20 [==============================] - 0s 19ms/step - loss: 0.0018\n",
            "Epoch 56/150\n",
            "20/20 [==============================] - 0s 19ms/step - loss: 0.0023\n",
            "Epoch 57/150\n",
            "20/20 [==============================] - 0s 18ms/step - loss: 0.0020\n",
            "Epoch 58/150\n",
            "20/20 [==============================] - 0s 19ms/step - loss: 0.0019\n",
            "Epoch 59/150\n",
            "20/20 [==============================] - 0s 18ms/step - loss: 0.0018\n",
            "Epoch 60/150\n",
            "20/20 [==============================] - 0s 18ms/step - loss: 0.0021\n",
            "Epoch 61/150\n",
            "20/20 [==============================] - 0s 14ms/step - loss: 0.0017\n",
            "Epoch 62/150\n",
            "20/20 [==============================] - 0s 13ms/step - loss: 0.0021\n",
            "Epoch 63/150\n",
            "20/20 [==============================] - 0s 14ms/step - loss: 0.0017\n",
            "Epoch 64/150\n",
            "20/20 [==============================] - 0s 15ms/step - loss: 0.0019\n",
            "Epoch 65/150\n",
            "20/20 [==============================] - 0s 13ms/step - loss: 0.0018\n",
            "Epoch 66/150\n",
            "20/20 [==============================] - 0s 14ms/step - loss: 0.0016\n",
            "Epoch 67/150\n",
            "20/20 [==============================] - 0s 14ms/step - loss: 0.0016\n",
            "Epoch 68/150\n",
            "20/20 [==============================] - 0s 13ms/step - loss: 0.0017\n",
            "Epoch 69/150\n",
            "20/20 [==============================] - 0s 14ms/step - loss: 0.0017\n",
            "Epoch 70/150\n",
            "20/20 [==============================] - 0s 14ms/step - loss: 0.0018\n",
            "Epoch 71/150\n",
            "20/20 [==============================] - 0s 15ms/step - loss: 0.0019\n",
            "Epoch 72/150\n",
            "20/20 [==============================] - 0s 14ms/step - loss: 0.0016\n",
            "Epoch 73/150\n",
            "20/20 [==============================] - 0s 14ms/step - loss: 0.0015\n",
            "Epoch 74/150\n",
            "20/20 [==============================] - 0s 13ms/step - loss: 0.0018\n",
            "Epoch 75/150\n",
            "20/20 [==============================] - 0s 13ms/step - loss: 0.0017\n",
            "Epoch 76/150\n",
            "20/20 [==============================] - 0s 13ms/step - loss: 0.0017\n",
            "Epoch 77/150\n",
            "20/20 [==============================] - 0s 14ms/step - loss: 0.0017\n",
            "Epoch 78/150\n",
            "20/20 [==============================] - 0s 14ms/step - loss: 0.0018\n",
            "Epoch 79/150\n",
            "20/20 [==============================] - 0s 13ms/step - loss: 0.0017\n",
            "Epoch 80/150\n",
            "20/20 [==============================] - 0s 14ms/step - loss: 0.0014\n",
            "Epoch 81/150\n",
            "20/20 [==============================] - 0s 13ms/step - loss: 0.0016\n",
            "Epoch 82/150\n",
            "20/20 [==============================] - 0s 14ms/step - loss: 0.0016\n",
            "Epoch 83/150\n",
            "20/20 [==============================] - 0s 14ms/step - loss: 0.0015\n",
            "Epoch 84/150\n",
            "20/20 [==============================] - 0s 13ms/step - loss: 0.0016\n",
            "Epoch 85/150\n",
            "20/20 [==============================] - 0s 14ms/step - loss: 0.0018\n",
            "Epoch 86/150\n",
            "20/20 [==============================] - 0s 14ms/step - loss: 0.0016\n",
            "Epoch 87/150\n",
            "20/20 [==============================] - 0s 14ms/step - loss: 0.0018\n",
            "Epoch 88/150\n",
            "20/20 [==============================] - 0s 14ms/step - loss: 0.0020\n",
            "Epoch 89/150\n",
            "20/20 [==============================] - 0s 14ms/step - loss: 0.0018\n",
            "Epoch 90/150\n",
            "20/20 [==============================] - 0s 14ms/step - loss: 0.0015\n",
            "Epoch 91/150\n",
            "20/20 [==============================] - 0s 14ms/step - loss: 0.0015\n",
            "Epoch 92/150\n",
            "20/20 [==============================] - 0s 14ms/step - loss: 0.0018\n",
            "Epoch 93/150\n",
            "20/20 [==============================] - 0s 14ms/step - loss: 0.0016\n",
            "Epoch 94/150\n",
            "20/20 [==============================] - 0s 13ms/step - loss: 0.0018\n",
            "Epoch 95/150\n",
            "20/20 [==============================] - 0s 14ms/step - loss: 0.0017\n",
            "Epoch 96/150\n",
            "20/20 [==============================] - 0s 14ms/step - loss: 0.0016\n",
            "Epoch 97/150\n",
            "20/20 [==============================] - 0s 14ms/step - loss: 0.0014\n",
            "Epoch 98/150\n",
            "20/20 [==============================] - 0s 14ms/step - loss: 0.0015\n",
            "Epoch 99/150\n",
            "20/20 [==============================] - 0s 14ms/step - loss: 0.0018\n",
            "Epoch 100/150\n",
            "20/20 [==============================] - 0s 14ms/step - loss: 0.0020\n",
            "Epoch 101/150\n",
            "20/20 [==============================] - 0s 14ms/step - loss: 0.0015\n",
            "Epoch 102/150\n",
            "20/20 [==============================] - 0s 14ms/step - loss: 0.0017\n",
            "Epoch 103/150\n",
            "20/20 [==============================] - 0s 14ms/step - loss: 0.0014\n",
            "Epoch 104/150\n",
            "20/20 [==============================] - 0s 14ms/step - loss: 0.0014\n",
            "Epoch 105/150\n",
            "20/20 [==============================] - 0s 14ms/step - loss: 0.0016\n",
            "Epoch 106/150\n",
            "20/20 [==============================] - 0s 14ms/step - loss: 0.0015\n",
            "Epoch 107/150\n",
            "20/20 [==============================] - 0s 14ms/step - loss: 0.0017\n",
            "Epoch 108/150\n",
            "20/20 [==============================] - 0s 14ms/step - loss: 0.0016\n",
            "Epoch 109/150\n",
            "20/20 [==============================] - 0s 14ms/step - loss: 0.0013\n",
            "Epoch 110/150\n",
            "20/20 [==============================] - 0s 14ms/step - loss: 0.0013\n",
            "Epoch 111/150\n",
            "20/20 [==============================] - 0s 14ms/step - loss: 0.0016\n",
            "Epoch 112/150\n",
            "20/20 [==============================] - 0s 13ms/step - loss: 0.0015\n",
            "Epoch 113/150\n",
            "20/20 [==============================] - 0s 13ms/step - loss: 0.0016\n",
            "Epoch 114/150\n",
            "20/20 [==============================] - 0s 14ms/step - loss: 0.0017\n",
            "Epoch 115/150\n",
            "20/20 [==============================] - 0s 14ms/step - loss: 0.0014\n",
            "Epoch 116/150\n",
            "20/20 [==============================] - 0s 13ms/step - loss: 0.0014\n",
            "Epoch 117/150\n",
            "20/20 [==============================] - 0s 14ms/step - loss: 0.0016\n",
            "Epoch 118/150\n",
            "20/20 [==============================] - 0s 14ms/step - loss: 0.0016\n",
            "Epoch 119/150\n",
            "20/20 [==============================] - 0s 14ms/step - loss: 0.0017\n",
            "Epoch 120/150\n",
            "20/20 [==============================] - 0s 13ms/step - loss: 0.0016\n",
            "Epoch 121/150\n",
            "20/20 [==============================] - 0s 13ms/step - loss: 0.0017\n",
            "Epoch 122/150\n",
            "20/20 [==============================] - 0s 14ms/step - loss: 0.0014\n",
            "Epoch 123/150\n",
            "20/20 [==============================] - 0s 14ms/step - loss: 0.0015\n",
            "Epoch 124/150\n",
            "20/20 [==============================] - 0s 13ms/step - loss: 0.0014\n",
            "Epoch 125/150\n",
            "20/20 [==============================] - 0s 14ms/step - loss: 0.0015\n",
            "Epoch 126/150\n",
            "20/20 [==============================] - 0s 13ms/step - loss: 0.0017\n",
            "Epoch 127/150\n",
            "20/20 [==============================] - 0s 14ms/step - loss: 0.0019\n",
            "Epoch 128/150\n",
            "20/20 [==============================] - 0s 13ms/step - loss: 0.0018\n",
            "Epoch 129/150\n",
            "20/20 [==============================] - 0s 14ms/step - loss: 0.0019\n",
            "Epoch 130/150\n",
            "20/20 [==============================] - 0s 14ms/step - loss: 0.0016\n",
            "Epoch 131/150\n",
            "20/20 [==============================] - 0s 14ms/step - loss: 0.0013\n",
            "Epoch 132/150\n",
            "20/20 [==============================] - 0s 14ms/step - loss: 0.0016\n",
            "Epoch 133/150\n",
            "20/20 [==============================] - 0s 14ms/step - loss: 0.0016\n",
            "Epoch 134/150\n",
            "20/20 [==============================] - 0s 14ms/step - loss: 0.0016\n",
            "Epoch 135/150\n",
            "20/20 [==============================] - 0s 14ms/step - loss: 0.0015\n",
            "Epoch 136/150\n",
            "20/20 [==============================] - 0s 14ms/step - loss: 0.0017\n",
            "Epoch 137/150\n",
            "20/20 [==============================] - 0s 13ms/step - loss: 0.0016\n",
            "Epoch 138/150\n",
            "20/20 [==============================] - 0s 14ms/step - loss: 0.0015\n",
            "Epoch 139/150\n",
            "20/20 [==============================] - 0s 14ms/step - loss: 0.0014\n",
            "Epoch 140/150\n",
            "20/20 [==============================] - 0s 14ms/step - loss: 0.0015\n",
            "Epoch 141/150\n",
            "20/20 [==============================] - 0s 14ms/step - loss: 0.0014\n",
            "Epoch 142/150\n",
            "20/20 [==============================] - 0s 14ms/step - loss: 0.0016\n",
            "Epoch 143/150\n",
            "20/20 [==============================] - 0s 14ms/step - loss: 0.0014\n",
            "Epoch 144/150\n",
            "20/20 [==============================] - 0s 14ms/step - loss: 0.0015\n",
            "Epoch 145/150\n",
            "20/20 [==============================] - 0s 14ms/step - loss: 0.0014\n",
            "Epoch 146/150\n",
            "20/20 [==============================] - 0s 14ms/step - loss: 0.0016\n",
            "Epoch 147/150\n",
            "20/20 [==============================] - 0s 15ms/step - loss: 0.0017\n",
            "Epoch 148/150\n",
            "20/20 [==============================] - 0s 14ms/step - loss: 0.0016\n",
            "Epoch 149/150\n",
            "20/20 [==============================] - 0s 13ms/step - loss: 0.0016\n",
            "Epoch 150/150\n",
            "20/20 [==============================] - 0s 14ms/step - loss: 0.0016\n"
          ]
        },
        {
          "output_type": "execute_result",
          "data": {
            "text/plain": [
              "<keras.callbacks.History at 0x7fea000ba690>"
            ]
          },
          "metadata": {},
          "execution_count": 16
        }
      ],
      "source": [
        "regressor.fit(X_train, y_train, epochs = 150, batch_size = 32)  "
      ]
    },
    {
      "cell_type": "markdown",
      "metadata": {
        "id": "4hRau_lIkrE8"
      },
      "source": [
        "## Part 3 - Making the predictions and visualising the results"
      ]
    },
    {
      "cell_type": "markdown",
      "metadata": {
        "id": "SgJO6qEDksxD"
      },
      "source": [
        "### Getting the real stock price of NOV 2021"
      ]
    },
    {
      "cell_type": "code",
      "execution_count": null,
      "metadata": {
        "id": "i6p3djgPXRRt"
      },
      "outputs": [],
      "source": [
        "dataset_test = pd.read_csv('/content/TESLA_stock_price_test.csv')\n",
        "real_stock_price = dataset_test.iloc[:, 1:2].values"
      ]
    },
    {
      "cell_type": "markdown",
      "metadata": {
        "id": "GrvrLblxkz42"
      },
      "source": [
        "### Getting the predicted stock price of  Nov 2021"
      ]
    },
    {
      "cell_type": "code",
      "execution_count": null,
      "metadata": {
        "id": "emikTvUpk3Ck"
      },
      "outputs": [],
      "source": [
        "dataset_total = pd.concat((dataset_train['Open'], dataset_test['Open']), axis = 0)\n",
        "inputs = dataset_total[len(dataset_total) - len(dataset_test) - 60:].values\n",
        "inputs = inputs.reshape(-1,1)\n",
        "inputs = sc.transform(inputs)\n",
        "X_test = []\n",
        "for i in range(60, 102):\n",
        "    X_test.append(inputs[i-60:i, 0])\n",
        "X_test = np.array(X_test)\n",
        "X_test = np.reshape(X_test, (X_test.shape[0], X_test.shape[1], 1))\n",
        "predicted_stock_price = regressor.predict(X_test)\n",
        "predicted_stock_price = sc.inverse_transform(predicted_stock_price)"
      ]
    },
    {
      "cell_type": "markdown",
      "metadata": {
        "id": "iFTNs3YHk6FQ"
      },
      "source": [
        "### Visualising the results"
      ]
    },
    {
      "cell_type": "code",
      "source": [
        "plt.plot(real_stock_price, color = 'red', label = 'Real Tesla Stock Price')\n",
        "plt.plot(predicted_stock_price, color = 'blue', label = 'Predicted Tesla Stock Price')\n",
        "plt.title('Tesla Stock Price Prediction')\n",
        "plt.xlabel('Time')\n",
        "plt.ylabel('Tesla Stock Price')\n",
        "plt.legend()\n",
        "plt.show()"
      ],
      "metadata": {
        "colab": {
          "base_uri": "https://localhost:8080/",
          "height": 295
        },
        "id": "OUruMBGYd-2n",
        "outputId": "13f62ca5-8669-4add-9b9b-8694fc7ae9de"
      },
      "execution_count": null,
      "outputs": [
        {
          "output_type": "display_data",
          "data": {
            "text/plain": [
              "<Figure size 432x288 with 1 Axes>"
            ],
            "image/png": "[encoded data removed]"
          },
          "metadata": {
            "needs_background": "light"
          }
        }
      ]
    }
  ],
  "metadata": {
    "accelerator": "GPU",
    "colab": {
      "collapsed_sections": [],
      "name": "TESLA stock predictions using  rnn.ipynb",
      "provenance": [],
      "toc_visible": true
    },
    "gpuClass": "standard",
    "kernelspec": {
      "display_name": "Python 3",
      "name": "python3"
    }
  },
  "nbformat": 4,
  "nbformat_minor": 0
}